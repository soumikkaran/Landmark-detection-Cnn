{
  "nbformat": 4,
  "nbformat_minor": 0,
  "metadata": {
    "colab": {
      "provenance": []
    },
    "kernelspec": {
      "name": "python3",
      "display_name": "Python 3"
    },
    "language_info": {
      "name": "python"
    }
  },
  "cells": [
    {
      "cell_type": "code",
      "source": [
        "from google.colab import drive\n",
        "drive.mount('/content/drive')\n"
      ],
      "metadata": {
        "colab": {
          "base_uri": "https://localhost:8080/"
        },
        "id": "YYCH0cf111zp",
        "outputId": "0d1d8c7e-96a8-4b9c-a127-d3624564beaf"
      },
      "execution_count": 2,
      "outputs": [
        {
          "output_type": "stream",
          "name": "stdout",
          "text": [
            "Mounted at /content/drive\n"
          ]
        }
      ]
    },
    {
      "cell_type": "code",
      "source": [
        "import zipfile\n",
        "\n",
        "# Set path to the .zip file inside Drive\n",
        "zip_path = \"/content/drive/MyDrive/archive.zip\"  # Ei path thik ache jodi file \"My Drive\" e thake\n",
        "\n",
        "# Extract into Colab's /content/landmark_dataset folder\n",
        "with zipfile.ZipFile(zip_path, 'r') as zip_ref:\n",
        "    zip_ref.extractall(\"/content/landmark_dataset\")\n"
      ],
      "metadata": {
        "id": "2IKrhXjJ2T4t"
      },
      "execution_count": 3,
      "outputs": []
    },
    {
      "cell_type": "code",
      "source": [
        "import os\n",
        "\n",
        "print(os.listdir(\"/content/landmark_dataset\"))\n"
      ],
      "metadata": {
        "colab": {
          "base_uri": "https://localhost:8080/"
        },
        "id": "3JXlMSRD2d_j",
        "outputId": "abd74627-0768-48da-dfd0-4f106a9261a2"
      },
      "execution_count": 4,
      "outputs": [
        {
          "output_type": "stream",
          "name": "stdout",
          "text": [
            "['Gothic', 'Pyramids', 'Neoclassical', 'Modern', 'Pagodas', 'Mughal']\n"
          ]
        }
      ]
    },
    {
      "cell_type": "code",
      "source": [
        "import cv2\n",
        "import numpy as np\n",
        "\n",
        "data = []\n",
        "labels = []\n",
        "\n",
        "dataset_path = \"/content/landmark_dataset\"\n",
        "classes = os.listdir(dataset_path)  # Folder names = labels\n",
        "\n",
        "for label_index, folder_name in enumerate(classes):\n",
        "    folder_path = os.path.join(dataset_path, folder_name)\n",
        "    for img_name in os.listdir(folder_path):\n",
        "        img_path = os.path.join(folder_path, img_name)\n",
        "        try:\n",
        "            img = cv2.imread(img_path)\n",
        "            img = cv2.resize(img, (100, 100))\n",
        "            data.append(img)\n",
        "            labels.append(label_index)\n",
        "        except:\n",
        "            pass  # Avoid error if image is corrupt\n"
      ],
      "metadata": {
        "id": "17gc7QWH2wbU"
      },
      "execution_count": 5,
      "outputs": []
    },
    {
      "cell_type": "code",
      "source": [
        "data = np.array(data) / 255.0  # Normalize (0–1)\n",
        "labels = np.array(labels)\n"
      ],
      "metadata": {
        "id": "s35DdvFG2-cq"
      },
      "execution_count": 6,
      "outputs": []
    },
    {
      "cell_type": "code",
      "source": [
        "import os\n",
        "\n",
        "dataset_path = \"/content/landmark_dataset\"\n",
        "print(\"Folders in dataset:\", os.listdir(dataset_path))\n",
        "\n"
      ],
      "metadata": {
        "colab": {
          "base_uri": "https://localhost:8080/"
        },
        "id": "NfB2HZ7r3Imf",
        "outputId": "d2d2d9cc-4053-401c-a863-63492dfaf58a"
      },
      "execution_count": 8,
      "outputs": [
        {
          "output_type": "stream",
          "name": "stdout",
          "text": [
            "Folders in dataset: ['Gothic', 'Pyramids', 'Neoclassical', 'Modern', 'Pagodas', 'Mughal']\n"
          ]
        }
      ]
    },
    {
      "cell_type": "code",
      "source": [
        "first_folder = os.listdir(dataset_path)[0]\n",
        "first_folder_path = os.path.join(dataset_path, first_folder)\n",
        "\n",
        "print(\"Sample folder:\", first_folder)\n",
        "print(\"Number of images inside:\", len(os.listdir(first_folder_path)))\n",
        "first_folder = os.listdir(dataset_path)[0]\n",
        "first_folder_path = os.path.join(dataset_path, first_folder)\n",
        "\n",
        "print(\"Sample folder:\", first_folder)\n",
        "print(\"Number of images inside:\", len(os.listdir(first_folder_path)))\n"
      ],
      "metadata": {
        "colab": {
          "base_uri": "https://localhost:8080/"
        },
        "id": "OHYMi2JA37eY",
        "outputId": "ead6ffaf-9d3f-46e2-aa6a-c4c4c6870017"
      },
      "execution_count": 9,
      "outputs": [
        {
          "output_type": "stream",
          "name": "stdout",
          "text": [
            "Sample folder: Gothic\n",
            "Number of images inside: 5\n",
            "Sample folder: Gothic\n",
            "Number of images inside: 5\n"
          ]
        }
      ]
    },
    {
      "cell_type": "code",
      "source": [
        "import cv2\n",
        "import matplotlib.pyplot as plt\n",
        "import os\n",
        "\n",
        "# Path of one sample image\n",
        "img_path = os.path.join(first_folder_path, os.listdir(first_folder_path)[0])\n",
        "print(\"Sample image path:\", img_path)\n",
        "\n",
        "img = cv2.imread(img_path)\n",
        "\n",
        "if img is not None:\n",
        "    plt.imshow(cv2.cvtColor(img, cv2.COLOR_BGR2RGB))\n",
        "    plt.title(\"Loaded Image\")\n",
        "    plt.axis(\"off\")\n",
        "    plt.show()\n",
        "else:\n",
        "    print(\"❌ Failed to load image!\")\n"
      ],
      "metadata": {
        "colab": {
          "base_uri": "https://localhost:8080/"
        },
        "id": "ppoBWp3R4JF0",
        "outputId": "9ceceb08-3410-42f4-bd71-e37968357db9"
      },
      "execution_count": 10,
      "outputs": [
        {
          "output_type": "stream",
          "name": "stdout",
          "text": [
            "Sample image path: /content/landmark_dataset/Gothic/CologneCathedral\n",
            "❌ Failed to load image!\n"
          ]
        }
      ]
    },
    {
      "cell_type": "code",
      "source": [
        "import cv2\n",
        "import numpy as np\n",
        "import os\n",
        "\n",
        "data = []\n",
        "labels = []\n",
        "\n",
        "dataset_path = \"/content/landmark_dataset\"\n",
        "classes = os.listdir(dataset_path)\n",
        "\n",
        "for label_index, outer_folder in enumerate(classes):\n",
        "    outer_path = os.path.join(dataset_path, outer_folder)\n",
        "    for inner_folder in os.listdir(outer_path):\n",
        "        inner_path = os.path.join(outer_path, inner_folder)\n",
        "        if os.path.isdir(inner_path):\n",
        "            for img_name in os.listdir(inner_path):\n",
        "                img_path = os.path.join(inner_path, img_name)\n",
        "                try:\n",
        "                    img = cv2.imread(img_path)\n",
        "                    img = cv2.resize(img, (100, 100))\n",
        "                    data.append(img)\n",
        "                    labels.append(label_index)\n",
        "                except:\n",
        "                    pass  # Skip unreadable images\n"
      ],
      "metadata": {
        "id": "mwBJlP2v4Ugm"
      },
      "execution_count": 11,
      "outputs": []
    },
    {
      "cell_type": "code",
      "source": [
        "data = np.array(data) / 255.0\n",
        "labels = np.array(labels)\n",
        "print(\"Total images loaded:\", len(data))\n"
      ],
      "metadata": {
        "colab": {
          "base_uri": "https://localhost:8080/"
        },
        "id": "3ffKl9K-4cZN",
        "outputId": "2aeff371-dc33-4818-a174-460542164fa2"
      },
      "execution_count": 12,
      "outputs": [
        {
          "output_type": "stream",
          "name": "stdout",
          "text": [
            "Total images loaded: 417\n"
          ]
        }
      ]
    },
    {
      "cell_type": "code",
      "source": [
        "from sklearn.model_selection import train_test_split\n",
        "from tensorflow.keras.utils import to_categorical\n",
        "\n",
        "# Split data into 80% train, 20% test\n",
        "X_train, X_test, y_train, y_test = train_test_split(data, labels, test_size=0.2, random_state=42)\n",
        "\n",
        "# One-hot encode the labels\n",
        "y_train = to_categorical(y_train)\n",
        "y_test = to_categorical(y_test)\n"
      ],
      "metadata": {
        "id": "IyZt1Cu04mns"
      },
      "execution_count": 13,
      "outputs": []
    },
    {
      "cell_type": "markdown",
      "source": [],
      "metadata": {
        "id": "pzvX50N-358c"
      }
    },
    {
      "cell_type": "code",
      "source": [
        "from tensorflow.keras.models import Sequential\n",
        "from tensorflow.keras.layers import Conv2D, MaxPooling2D, Flatten, Dense, Dropout\n",
        "\n",
        "model = Sequential()\n",
        "\n",
        "model.add(Conv2D(32, (3,3), activation='relu', input_shape=(100, 100, 3)))\n",
        "model.add(MaxPooling2D((2,2)))\n",
        "\n",
        "model.add(Conv2D(64, (3,3), activation='relu'))\n",
        "model.add(MaxPooling2D((2,2)))\n",
        "\n",
        "model.add(Conv2D(128, (3,3), activation='relu'))\n",
        "model.add(MaxPooling2D((2,2)))\n",
        "\n",
        "model.add(Flatten())\n",
        "model.add(Dense(128, activation='relu'))\n",
        "model.add(Dropout(0.5))  # helps prevent overfitting\n",
        "model.add(Dense(y_train.shape[1], activation='softmax'))  # output layer\n"
      ],
      "metadata": {
        "colab": {
          "base_uri": "https://localhost:8080/"
        },
        "id": "5OX9S5l64zSt",
        "outputId": "49f37fd9-8cb8-4e87-e742-5748f5d34fa2"
      },
      "execution_count": 14,
      "outputs": [
        {
          "output_type": "stream",
          "name": "stderr",
          "text": [
            "/usr/local/lib/python3.11/dist-packages/keras/src/layers/convolutional/base_conv.py:107: UserWarning: Do not pass an `input_shape`/`input_dim` argument to a layer. When using Sequential models, prefer using an `Input(shape)` object as the first layer in the model instead.\n",
            "  super().__init__(activity_regularizer=activity_regularizer, **kwargs)\n"
          ]
        }
      ]
    },
    {
      "cell_type": "code",
      "source": [
        "model.compile(optimizer='adam', loss='categorical_crossentropy', metrics=['accuracy'])\n"
      ],
      "metadata": {
        "id": "1Mu_gEkr5HEA"
      },
      "execution_count": 15,
      "outputs": []
    },
    {
      "cell_type": "code",
      "source": [
        "history = model.fit(X_train, y_train, epochs=10, validation_data=(X_test, y_test))\n"
      ],
      "metadata": {
        "colab": {
          "base_uri": "https://localhost:8080/"
        },
        "id": "aH-fLQGj5MRx",
        "outputId": "5f862412-aba6-42d7-a10e-d50e5a644fc7"
      },
      "execution_count": 16,
      "outputs": [
        {
          "output_type": "stream",
          "name": "stdout",
          "text": [
            "Epoch 1/10\n",
            "\u001b[1m11/11\u001b[0m \u001b[32m━━━━━━━━━━━━━━━━━━━━\u001b[0m\u001b[37m\u001b[0m \u001b[1m10s\u001b[0m 680ms/step - accuracy: 0.1821 - loss: 1.9260 - val_accuracy: 0.1071 - val_loss: 1.8011\n",
            "Epoch 2/10\n",
            "\u001b[1m11/11\u001b[0m \u001b[32m━━━━━━━━━━━━━━━━━━━━\u001b[0m\u001b[37m\u001b[0m \u001b[1m11s\u001b[0m 676ms/step - accuracy: 0.2151 - loss: 1.7764 - val_accuracy: 0.1786 - val_loss: 1.8037\n",
            "Epoch 3/10\n",
            "\u001b[1m11/11\u001b[0m \u001b[32m━━━━━━━━━━━━━━━━━━━━\u001b[0m\u001b[37m\u001b[0m \u001b[1m8s\u001b[0m 607ms/step - accuracy: 0.2600 - loss: 1.7527 - val_accuracy: 0.3214 - val_loss: 1.7576\n",
            "Epoch 4/10\n",
            "\u001b[1m11/11\u001b[0m \u001b[32m━━━━━━━━━━━━━━━━━━━━\u001b[0m\u001b[37m\u001b[0m \u001b[1m9s\u001b[0m 516ms/step - accuracy: 0.2714 - loss: 1.7082 - val_accuracy: 0.2976 - val_loss: 1.7030\n",
            "Epoch 5/10\n",
            "\u001b[1m11/11\u001b[0m \u001b[32m━━━━━━━━━━━━━━━━━━━━\u001b[0m\u001b[37m\u001b[0m \u001b[1m10s\u001b[0m 502ms/step - accuracy: 0.3803 - loss: 1.5555 - val_accuracy: 0.4405 - val_loss: 1.5620\n",
            "Epoch 6/10\n",
            "\u001b[1m11/11\u001b[0m \u001b[32m━━━━━━━━━━━━━━━━━━━━\u001b[0m\u001b[37m\u001b[0m \u001b[1m11s\u001b[0m 530ms/step - accuracy: 0.4431 - loss: 1.4057 - val_accuracy: 0.4048 - val_loss: 1.4702\n",
            "Epoch 7/10\n",
            "\u001b[1m11/11\u001b[0m \u001b[32m━━━━━━━━━━━━━━━━━━━━\u001b[0m\u001b[37m\u001b[0m \u001b[1m11s\u001b[0m 670ms/step - accuracy: 0.4759 - loss: 1.4002 - val_accuracy: 0.4524 - val_loss: 1.4673\n",
            "Epoch 8/10\n",
            "\u001b[1m11/11\u001b[0m \u001b[32m━━━━━━━━━━━━━━━━━━━━\u001b[0m\u001b[37m\u001b[0m \u001b[1m9s\u001b[0m 508ms/step - accuracy: 0.5214 - loss: 1.1974 - val_accuracy: 0.4524 - val_loss: 1.5277\n",
            "Epoch 9/10\n",
            "\u001b[1m11/11\u001b[0m \u001b[32m━━━━━━━━━━━━━━━━━━━━\u001b[0m\u001b[37m\u001b[0m \u001b[1m10s\u001b[0m 481ms/step - accuracy: 0.5326 - loss: 1.2338 - val_accuracy: 0.5000 - val_loss: 1.4610\n",
            "Epoch 10/10\n",
            "\u001b[1m11/11\u001b[0m \u001b[32m━━━━━━━━━━━━━━━━━━━━\u001b[0m\u001b[37m\u001b[0m \u001b[1m7s\u001b[0m 677ms/step - accuracy: 0.6633 - loss: 0.9709 - val_accuracy: 0.5000 - val_loss: 1.3398\n"
          ]
        }
      ]
    },
    {
      "cell_type": "code",
      "source": [
        "test_loss, test_acc = model.evaluate(X_test, y_test)\n",
        "print(\"Test accuracy:\", test_acc)\n"
      ],
      "metadata": {
        "colab": {
          "base_uri": "https://localhost:8080/"
        },
        "id": "rab4qk-k5xci",
        "outputId": "4150754c-35cc-42c4-d405-ab8b158d9bc5"
      },
      "execution_count": 17,
      "outputs": [
        {
          "output_type": "stream",
          "name": "stdout",
          "text": [
            "\u001b[1m3/3\u001b[0m \u001b[32m━━━━━━━━━━━━━━━━━━━━\u001b[0m\u001b[37m\u001b[0m \u001b[1m1s\u001b[0m 200ms/step - accuracy: 0.4961 - loss: 1.2798\n",
            "Test accuracy: 0.5\n"
          ]
        }
      ]
    },
    {
      "cell_type": "code",
      "source": [
        "import matplotlib.pyplot as plt\n",
        "\n",
        "# Plot Accuracy\n",
        "plt.plot(history.history['accuracy'], label='Train Accuracy')\n",
        "plt.plot(history.history['val_accuracy'], label='Validation Accuracy')\n",
        "plt.title('Model Accuracy')\n",
        "plt.xlabel('Epoch')\n",
        "plt.ylabel('Accuracy')\n",
        "plt.legend()\n",
        "plt.show()\n",
        "\n",
        "# Plot Loss\n",
        "plt.plot(history.history['loss'], label='Train Loss')\n",
        "plt.plot(history.history['val_loss'], label='Validation Loss')\n",
        "plt.title('Model Loss')\n",
        "plt.xlabel('Epoch')\n",
        "plt.ylabel('Loss')\n",
        "plt.legend()\n",
        "plt.show()\n"
      ],
      "metadata": {
        "colab": {
          "base_uri": "https://localhost:8080/",
          "height": 927
        },
        "id": "Ka7SJ-_67DLP",
        "outputId": "fe7b7499-54a2-4d10-8bf9-45fa2a44650c"
      },
      "execution_count": 18,
      "outputs": [
        {
          "output_type": "display_data",
          "data": {
            "text/plain": [
              "<Figure size 640x480 with 1 Axes>"
            ],
            "image/png": "[encoded data removed]"
          },
          "metadata": {}
        },
        {
          "output_type": "display_data",
          "data": {
            "text/plain": [
              "<Figure size 640x480 with 1 Axes>"
            ],
            "image/png": "[encoded data removed]"
          },
          "metadata": {}
        }
      ]
    },
    {
      "cell_type": "code",
      "source": [
        "model.save(\"landmark_model.h5\")\n"
      ],
      "metadata": {
        "colab": {
          "base_uri": "https://localhost:8080/"
        },
        "id": "gppH_sYc7KRG",
        "outputId": "49f1a93a-e716-4e77-8cc7-2329c4656169"
      },
      "execution_count": 19,
      "outputs": [
        {
          "output_type": "stream",
          "name": "stderr",
          "text": [
            "WARNING:absl:You are saving your model as an HDF5 file via `model.save()` or `keras.saving.save_model(model)`. This file format is considered legacy. We recommend using instead the native Keras format, e.g. `model.save('my_model.keras')` or `keras.saving.save_model(model, 'my_model.keras')`. \n"
          ]
        }
      ]
    }
  ]
}